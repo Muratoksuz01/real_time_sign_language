{
 "cells": [
  {
   "cell_type": "code",
   "execution_count": 2,
   "metadata": {},
   "outputs": [],
   "source": [
    "import os,cv2,time,uuid"
   ]
  },
  {
   "cell_type": "code",
   "execution_count": 3,
   "metadata": {},
   "outputs": [],
   "source": [
    "Images_Path=\"./CollactedImages/\"\n",
    "labels=[\"hello\",\"thanks\",\"yes\",\"no\",\"ILoveYou\"]\n",
    "number_imgs=15"
   ]
  },
  {
   "cell_type": "code",
   "execution_count": 5,
   "metadata": {},
   "outputs": [
    {
     "name": "stdout",
     "output_type": "stream",
     "text": [
      "collacting image for hello\n",
      "collacting image for thanks\n",
      "collacting image for yes\n",
      "collacting image for no\n",
      "collacting image for ILoveYou\n"
     ]
    }
   ],
   "source": [
    "for label in labels: # collect the iamge\n",
    "    if not os.path.exists(Images_Path+label):\n",
    "        os.mkdir(Images_Path+label)\n",
    "    cap=cv2.VideoCapture(0)\n",
    "    print(\"collacting image for \"+label)\n",
    "    time.sleep(7)\n",
    "    for imgnum  in range(number_imgs):\n",
    "        ret,frame=cap.read()\n",
    "        imageName=os.path.join(Images_Path,label,label+\".\"+\"{}.jpg\".format(uuid.uuid1()))\n",
    "        cv2.imwrite(imageName,frame)\n",
    "        cv2.imshow(\"frame\",frame)\n",
    "        time.sleep(1)\n",
    "        \n",
    "        if cv2.waitKey(1) & 0xFF== ord(\"q\"):break\n",
    "    cap.release()\n",
    "cv2.destroyAllWindows()\n",
    "    "
   ]
  },
  {
   "cell_type": "code",
   "execution_count": null,
   "metadata": {},
   "outputs": [],
   "source": []
  },
  {
   "cell_type": "code",
   "execution_count": 1,
   "metadata": {},
   "outputs": [
    {
     "name": "stdout",
     "output_type": "stream",
     "text": [
      "Downloading https://github.com/ultralytics/assets/releases/download/v8.1.0/yolov8n.pt to 'yolov8n.pt'...\n"
     ]
    },
    {
     "name": "stderr",
     "output_type": "stream",
     "text": [
      "100%|██████████| 6.23M/6.23M [00:02<00:00, 3.24MB/s]\n"
     ]
    }
   ],
   "source": [
    "from ultralytics import YOLO # for train\n",
    "\n",
    "# Load a model\n",
    "model = YOLO('yolov8n.pt')  \n",
    "\n",
    "# Train the model with 2 GPUs\n",
    "results = model.train(data='real_time_sign_language.v2i.yolov8/data.yaml', epochs=1000, imgsz=640, device=[0, 1])"
   ]
  },
  {
   "cell_type": "code",
   "execution_count": null,
   "metadata": {},
   "outputs": [],
   "source": [
    "from ultralytics import YOLO # real time object detection\n",
    "import cv2\n",
    "import math \n",
    "# start webcam\n",
    "cap = cv2.VideoCapture(0)\n",
    "cap.set(3, 640)\n",
    "cap.set(4, 480)\n",
    "\n",
    "# model\n",
    "model = YOLO(\"best.pt\")\n",
    "\n",
    "# object classes\n",
    "classNames = ['hello', 'i love you', 'no', 'thanks', 'yes']\n",
    "\n",
    "\n",
    "while True:\n",
    "    success, img = cap.read()\n",
    "    results = model(img, stream=True)\n",
    "\n",
    "    # coordinates\n",
    "    for r in results:\n",
    "        boxes = r.boxes\n",
    "\n",
    "        for box in boxes:\n",
    "            # bounding box\n",
    "            x1, y1, x2, y2 = box.xyxy[0]\n",
    "            x1, y1, x2, y2 = int(x1), int(y1), int(x2), int(y2) # convert to int values\n",
    "\n",
    "            # put box in cam\n",
    "            cv2.rectangle(img, (x1, y1), (x2, y2), (255, 0, 255), 3)\n",
    "\n",
    "            # confidence\n",
    "            confidence = math.ceil((box.conf[0]*100))/100\n",
    "            print(\"Confidence --->\",confidence)\n",
    "\n",
    "            # class name\n",
    "            cls = int(box.cls[0])\n",
    "            print(\"Class name -->\", classNames[cls])\n",
    "\n",
    "            # object details\n",
    "            org = [x1, y1]\n",
    "            font = cv2.FONT_HERSHEY_SIMPLEX\n",
    "            fontScale = 1\n",
    "            color = (255, 0, 0)\n",
    "            thickness = 2\n",
    "\n",
    "            cv2.putText(img, classNames[cls], org, font, fontScale, color, thickness)\n",
    "    # cv2.imshow()\n",
    "    cv2.imshow('Webcam', img)\n",
    "    if cv2.waitKey(1) == ord('q'):\n",
    "        break\n",
    "\n",
    "cap.release()\n",
    "cv2.destroyAllWindows()"
   ]
  }
 ],
 "metadata": {
  "kernelspec": {
   "display_name": "mainenv",
   "language": "python",
   "name": "python3"
  },
  "language_info": {
   "codemirror_mode": {
    "name": "ipython",
    "version": 3
   },
   "file_extension": ".py",
   "mimetype": "text/x-python",
   "name": "python",
   "nbconvert_exporter": "python",
   "pygments_lexer": "ipython3",
   "version": "3.10.12"
  }
 },
 "nbformat": 4,
 "nbformat_minor": 2
}
